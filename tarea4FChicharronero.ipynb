{
  "nbformat": 4,
  "nbformat_minor": 0,
  "metadata": {
    "colab": {
      "name": "tarea4FChicharronero",
      "provenance": []
    },
    "kernelspec": {
      "name": "python3",
      "display_name": "Python 3"
    },
    "language_info": {
      "name": "python"
    }
  },
  "cells": [
    {
      "cell_type": "code",
      "metadata": {
        "colab": {
          "base_uri": "https://localhost:8080/"
        },
        "id": "9EyTxKJehCpE",
        "outputId": "ba938f79-12fb-46e8-859a-e89c804f0347"
      },
      "source": [
        "print('Hola! Vamos a resolver una ecuación de segundo grado por fórmula general. Por favor introduzcca los datos como se le pide\\n')\n",
        "a= float(input('Introduzca el valor de a: '))\n",
        "b= float(input('introduzca el valor de b: '))\n",
        "c= float(input('introduzca el valor de c: '))\n",
        "if a!=0:\n",
        "\n",
        "  x1=(-b+(((b**2)-(4*a*c))**0.5))/(2*a)\n",
        "\n",
        "  x2=(-b-(((b**2)-(4*a*c))**0.5))/(2*a)\n",
        "\n",
        "  print('\\nEl valor que resulta de X1 es:')\n",
        "  print(x1)\n",
        "  print('El valor que resulta de X2 es:')\n",
        "  print(x2)\n",
        "if a==0:\n",
        "  print('El valor \"a\" no puede tener el valor de 0: Intente con otro valor diferente')"
      ],
      "execution_count": null,
      "outputs": [
        {
          "output_type": "stream",
          "name": "stdout",
          "text": [
            "Hola! Vamos a resolver una ecuación de segundo grado por fórmula general. Por favor introduzcca los datos como se le pide\n",
            "\n",
            "Introduzca el valor de a: 0\n",
            "introduzca el valor de b: 3\n",
            "introduzca el valor de c: 6\n",
            "El valor \"a\" no puede tener el valor de 0: Intente con otro valor diferente\n"
          ]
        }
      ]
    }
  ]
}